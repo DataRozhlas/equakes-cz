{
 "cells": [
  {
   "cell_type": "code",
   "execution_count": 58,
   "metadata": {},
   "outputs": [],
   "source": [
    "import xml.etree.ElementTree as ET\n",
    "import pandas as pd"
   ]
  },
  {
   "cell_type": "code",
   "execution_count": 2,
   "metadata": {},
   "outputs": [],
   "source": [
    "tree = ET.parse('./scratch/kml.php')\n",
    "root = tree.getroot()"
   ]
  },
  {
   "cell_type": "code",
   "execution_count": 26,
   "metadata": {},
   "outputs": [],
   "source": [
    "ns = '{http://www.opengis.net/kml/2.2}'"
   ]
  },
  {
   "cell_type": "code",
   "execution_count": 71,
   "metadata": {},
   "outputs": [],
   "source": [
    "out = []\n",
    "for fol in root[0].findall(ns + 'Folder'):\n",
    "    for mark in fol.findall(ns + 'Placemark'):\n",
    "        out.append({\n",
    "            'name': mark.find(ns + 'name').text,\n",
    "            'desc': mark.find(ns + 'description').text,\n",
    "            'coords': mark.find(ns + 'Point').find(ns + 'coordinates').text,\n",
    "            'scale': mark.find(ns + 'Style').find(ns + 'IconStyle').find(ns + 'scale').text\n",
    "        })"
   ]
  },
  {
   "cell_type": "code",
   "execution_count": 82,
   "metadata": {},
   "outputs": [],
   "source": [
    "dta = pd.DataFrame.from_dict(out)\n",
    "dta = dta[dta.name.str.contains('CZECH REPUBLIC')]"
   ]
  },
  {
   "cell_type": "code",
   "execution_count": 90,
   "metadata": {},
   "outputs": [],
   "source": [
    "dta['x'] = dta.coords.apply(lambda x: float(x.split(',')[1]))\n",
    "dta['y'] = dta.coords.apply(lambda x: float(x.split(',')[0]))\n",
    "\n",
    "dta['mag'] = dta.name.apply(lambda x: float(x.split('M')[1].split(' - ')[0].replace('L ', '')))"
   ]
  },
  {
   "cell_type": "code",
   "execution_count": 96,
   "metadata": {},
   "outputs": [],
   "source": [
    "dta['date'] = dta.desc.apply(lambda x: x.split('<b>')[1].split(' ')[0])"
   ]
  },
  {
   "cell_type": "code",
   "execution_count": 112,
   "metadata": {},
   "outputs": [],
   "source": [
    "dta.scale = dta.scale.astype('float')"
   ]
  },
  {
   "cell_type": "code",
   "execution_count": 115,
   "metadata": {},
   "outputs": [],
   "source": [
    "dta[dta.mag >= 3][['scale', 'x', 'y', 'mag', 'date']].to_json('./quakes.json', orient='index')"
   ]
  }
 ],
 "metadata": {
  "kernelspec": {
   "display_name": "Python 3",
   "language": "python",
   "name": "python3"
  },
  "language_info": {
   "codemirror_mode": {
    "name": "ipython",
    "version": 3
   },
   "file_extension": ".py",
   "mimetype": "text/x-python",
   "name": "python",
   "nbconvert_exporter": "python",
   "pygments_lexer": "ipython3",
   "version": "3.6.5"
  }
 },
 "nbformat": 4,
 "nbformat_minor": 2
}
